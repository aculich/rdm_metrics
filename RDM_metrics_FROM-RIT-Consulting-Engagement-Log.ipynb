{
 "cells": [
  {
   "cell_type": "code",
   "execution_count": null,
   "metadata": {
    "collapsed": true
   },
   "outputs": [],
   "source": [
    "import csv, sys\n",
    "import re\n",
    "from collections import Counter\n",
    "from datetime import date, datetime\n",
    "\n",
    "# CSV now generated from Google sheet (\"Research IT Consulting Engagement Log\"), \\\n",
    "# then filtered for date and RDM in an external application prior to running this script"
   ]
  },
  {
   "cell_type": "markdown",
   "metadata": {},
   "source": [
    "Provide some parameters (arguments) for the script:\n",
    "1. The .csv file that contains our data is now being generated from the Google sheet titled \"Research IT Consulting Engagements Log.\" \n",
    "2. The 'report_period_descriptor' will be the text included in the first line of the report created by the script.\n",
    "3. Report_start and report_end are the beginning and end dates (inclusive) of the period covered by the report.\n",
    "\n",
    "You can load these from a file if you wish. The file should be a .py file that contains exactly the information shown below in lines 2 through 7. Place the file in the same folder as this Jupyter Notebook file, or provide the path to it in the cell magic command '%load.' (Remove the '#' before '%load' to run the command.)"
   ]
  },
  {
   "cell_type": "code",
   "execution_count": null,
   "metadata": {
    "collapsed": true
   },
   "outputs": [],
   "source": [
    "# %load Metrics_args/RDM_metrics_args-FY2018-Q1.py\n",
    "# These are the arguments that must be provided to the script\n",
    "#filepath = \n",
    "#filename = \n",
    "#report_period_descriptor = \n",
    "#report_start = \n",
    "#report_end = "
   ]
  },
  {
   "cell_type": "markdown",
   "metadata": {},
   "source": [
    "To help keep us humans from confusion, here's a list of the column headers in the original Google sheet. We will refer to these \"columns\" in the script by their position in each row, with the first column being element [0]."
   ]
  },
  {
   "cell_type": "code",
   "execution_count": null,
   "metadata": {
    "collapsed": true
   },
   "outputs": [],
   "source": [
    "# Google sheet column headers (row to be removed by the Python script):\n",
    "#    [0] Start date\n",
    "#    [1] Consultant(s)\n",
    "#    [2] Client(s)\n",
    "#    [3] PI (Whose project is it?)\n",
    "#    [4] Department/ORU\n",
    "#    [5] Research Domain (e.g. Egyptology)\n",
    "#    [6] Position (grad, postdoc, faculty, undergrad, researcher)\n",
    "#    [7] Project type (dissertation, etc.)\n",
    "#    [8] Related course (if applicable)\n",
    "#    [9] Research IT service\n",
    "#    [10] Topic (uncontrolled)\n",
    "#    [11] Category (controlled)\n",
    "#    [12] Source\n",
    "#    [13] Hand-off and/or referral\n",
    "#    [14] Complexity (RDM)\n",
    "#    [15] Status\n",
    "#    [16] Link to details\n",
    "#    [17] Notes\n",
    "#    [18] (empty)"
   ]
  },
  {
   "cell_type": "markdown",
   "metadata": {},
   "source": [
    "This script utilizes dictionaries to roll up individual values to a parent value. At this point, there are five:\n",
    "1. The \"columns\" of the .csv file that will be counted or analyzed using dictionaries\n",
    "2. The organizational unit of people involved in consultations or referrals\n",
    "3. The departments served belong to colleges, divisions; etc. (To be added from the Securing Research Data work)\n",
    "4. The labels used in our output for empty values; the labels vary by column\n",
    "5. The headings used in our output; these, like the labels, vary by column.\n",
    "\n",
    "Before we load the data file, let's initialize some configuration for the various dictionaries. The configuation is kept in a file currently named config_v2.py, which we load using the cell magic command '%load.' (The file can be located in the same folder as the notebook file itself, or a path can be provided.) \n",
    "\n",
    "As new values are added to the Google Sheet, they should be added to the second value list within the correct dictionary here."
   ]
  },
  {
   "cell_type": "code",
   "execution_count": null,
   "metadata": {
    "collapsed": true
   },
   "outputs": [],
   "source": [
    "# %load config_v3.py  # file location is relative to this Jupyter Notebook\n",
    "# Positional elements (columns) with the following indices -- and only those elements, at present --\n",
    "# will be gathered and counted using a dictionary\n",
    "dictable_cols = [1, 4, 6, 11, 12, 13, 14]\n",
    "\n",
    "# let the data do the heavy lifting...everything is in this dict!\n",
    "refs = {\n",
    "    'lib': ['The Library', ['Harrison Dekker', 'Jamie Wittenberg', 'Susan Edwards', 'Steve Mendoza', 'Steven Mendoza',\n",
    "                            'Margaret Phillips', 'data-consult list (Library)', 'Brian Quigley', 'Library',\n",
    "                            'Data Storage/Sharing and the Social Sciences Working Group', 'Erik Mitchell',\n",
    "                            'Susan Powell', 'Anna Sackmann', 'David Eiffler', 'Yasmin Alnoamany', 'Stacy Reardon',\n",
    "                            'Celia Emmelhainz', 'Hilary Schiraldi', 'Amy Neeser']],\n",
    "    'css': ['Campus Shared Services - IT', ['Brett Larsen', 'Daniel Bass', 'Johnathon Kogelman',\n",
    "                                            'Johnathon Kogelman (CSS-IT)', 'CSS-IT', \n",
    "                                            'Referred by Johnathon Kogelman (CSS-IT)', \n",
    "                                            'request to Rick from Daniel Bass',\n",
    "                                            'email to Rick from Daniel Bass',\n",
    "                                            'CSS_IT (Jon Valmores)']],\n",
    "    'dlab': ['D-Lab', ['D-Lab Consulting List', 'D-Lab', 'Jon Stiles', 'Zawadi Rucks Ahidiana',\n",
    "                       'Rick Jaffe (via D-Lab Consulting web page)', 'dlab-consultants@lists.b.e', \n",
    "                       'd-lab consultants list', 'referred to D-Lab/Jon Stiles', 'D-Lab consultants list',\n",
    "                       'Rick at d-lab consulting Ticket #29430', 'D-Lab ticket#29433', 'Chris Hench (D-Lab)']],\n",
    "    'scf': ['Statistical Computing Facility', ['Chris Paciorek', 'Ryan Lovett']],\n",
    "    'brc': ['Berkeley Research Computing',\n",
    "            ['Patrick Schmitz', 'Aron Roberts', 'Aaron Culich', 'Jason Christopher', 'Kelly Rowland', 'Gary Jung',\n",
    "             'BRC Cloud Consulting', 'Jason Huff (Computational Genomics Resource Lab)',\n",
    "             'Berkeley Research Computing - Cloud', 'Yong Qin', 'Deb McCaffrey', 'email to BRC', \n",
    "             'brc@berkeley.edu']],\n",
    "    'dh': ['Digital Humanities @ Berkeley', ['Quinn Dombrowski', 'Camille Villa', 'Digital Humanities',\n",
    "                                             'Claudia Natalia Von Vacano']],\n",
    "    'rdm': ['RDM Consulting', ['researchdata@berkeley.edu', 'Rick Jaffe', 'Chris Hoffman', 'John B Lowe',\n",
    "                               'BRC Survey 2016 (Response to follow-up from Jamie)', 'email to Rick Jaffe', \n",
    "                               'Follow-up', 'Rick', 'follow up', 'email to Rick and Jason', \n",
    "                               'researchdata@b.e. (after browsing web site)', 'researchdata@b.e.', \n",
    "                               'researchdata@b.e', 'email to Rick from Jessica', 'email to Rick from Carla',\n",
    "                               'email to Rick from Laura', 'email to Rick from Phuong', 'email to Rick from Sarah',\n",
    "                               'Anna Sackman (RDM)', 'Email to Rick']],\n",
    "    'cdl': ['California Digital Library', ['Joan Starr', 'Stephanie Simms', \n",
    "                                           'Daniella Lowenberg (DASH), via Quinn Dombrowski']],\n",
    "    'ist': ['Information Services & Technology - API', ['Jennifer Bellenger', 'Jon Broshious', 'Ian Crew', 'Jon Hays',\n",
    "                                                        'bConnected', 'Michael Leefers', 'Alex Walton', \n",
    "                                                        'referred by Ian (bConnected)', \n",
    "                                                        'referred to Rick by Jennifer Bellenger (bConnected)',\n",
    "                                                        'Forwarded by Beth Muramoto (GSE) to Ian Crew (bConnected), who forwarded it in turn to researchdata@berkeley.edu',\n",
    "                                                        'bconnected']],\n",
    "    'micronet': ['Micronet', ['micronet', 'Micronet', 'micronet list', 'Micronet list']],\n",
    "    'iao': ['Industry Alliances Office', ['Nicole Hensley', 'Nicole Hensley (IAO/IPIRA)', 'Nicole Hensley (IAO)',\n",
    "                                         'email to Chris and Rick from Eric Giegerich',\n",
    "                                         'email from Nicole Hensley to Rick and Chris',\n",
    "                                         'Email from Nicole Hensley to Chris and to Rick']],\n",
    "    'ssw': ['School of Social Welfare', ['David Fullmer']],\n",
    "    'bids': ['Berkeley Institute for Data Science', ['BIDS']],\n",
    "    'brdo': ['Berkeley Research Development Office (VCRO)', ['Barbara Ustanko via Chris Hoffman']],\n",
    "    'lsit': ['Letters & Science IT', ['Michael Quan (Letters & Science IT)']],\n",
    "    'ais': ['Academic Innovation Studio', ['AIS drop-in (handled by Rick)']],\n",
    "    'musinf': ['Museum Informatics', ['BIDS Faire CSpace Portals poster']],\n",
    "    'rit': ['Research IT', ['research-it@berkeley.edu']]\n",
    "}\n",
    "\n",
    "labels = ['Unassigned', 'Unknown department', 'Unknown status', '',  '', '', 'Unspecified', 'Unknown division',\n",
    "          'Consultation(s) without a partner',]\n",
    "\n",
    "headings = ['Consultants, number of consults', 'Departments Served, number of engagements',\n",
    "            'Patron Status, number of patrons', 'RDM Lifecycle Category', 'Referrals In', 'Referrals Out',\n",
    "            'Consultation Complexity', 'Library Division, number of engagements',\n",
    "            'Organizational Partners, number of shared engagements' ]\n"
   ]
  },
  {
   "cell_type": "markdown",
   "metadata": {},
   "source": [
    "CLEAN THE DATA\n",
    "\n",
    "With the dictionaries in place, let's begin to clean the data."
   ]
  },
  {
   "cell_type": "code",
   "execution_count": null,
   "metadata": {
    "collapsed": true,
    "scrolled": false
   },
   "outputs": [],
   "source": [
    "# TODO - Catch and handle missing arguments or errors in the arguments\n",
    "\n",
    "# Convert report_start and report_end arguments to datetime format\n",
    "reportstart = datetime.strptime(report_start, '%Y-%m-%d')\n",
    "reportend = datetime.strptime(report_end, '%Y-%m-%d')\n",
    "\n",
    "myrows = []\n",
    "\n",
    "# Read data into a list of lists, clean as required\n",
    "with open(filepath + filename) as csvfile:\n",
    "    for row in csv.reader(csvfile, delimiter=\",\"):\n",
    "\n",
    "        # Filter Google sheet to include only RDM consultations during the desired period.\n",
    "        \n",
    "        # Remove header row (first header value is 'Start Date')\n",
    "        if row[0] == 'Start Date': continue\n",
    "\n",
    "        \n",
    "        # Convert start date values (first column) to datetime format and \\\n",
    "        # compare against report-start and report-end arguments. Skip if start date is not in report period range\n",
    "        startdate = datetime.strptime(row[0], '%Y-%m-%d')\n",
    "        if not reportstart <= startdate <= reportend: continue\n",
    "            \n",
    "        # Remove rows in which Research IT Service does not include RDM\n",
    "        RIT_service = row[9]\n",
    "        if not 'RDM' in RIT_service: continue\n",
    "\n",
    "        # Remove rows that are not consultations. For RDM, consultations were listed as 'User support' \\\n",
    "        # or (once) 'Library user support' until late February 2017. \\\n",
    "        # After that, they were coded as 'RDM [service area]', sometimes with multiple values listed\n",
    "        p = re.compile(r'^.*[Uu]ser support.*$')  # Matches 'User support' or 'Library user support'\n",
    "        p1 = re.compile(r'^.*(RDM)')  # Matches an instance of 'RDM [service area]'\n",
    "        category = row[11]\n",
    "        if not ((p.match(category)) or (p1.match(category))): continue\n",
    " \n",
    "\n",
    "        # Now clean, split multiple values, and aggregate (roll up) values as appropriate\n",
    "        \n",
    "        # Consultant(s), Department/ORU, Patron status, (RDM Lifecycle) Category, Source (aka referral in),\n",
    "        # Hand-off or referral (aka referral out), Consultation complexity: \\\n",
    "        # replace empty values with appropriate label\n",
    "        # NOTE: We didn't port Library division and Organizational partner fields to the Google sheet\n",
    "        \n",
    "        #for n, label in zip(config_v2.dictable_cols, config_v2.labels):  ## USE THIS IN PYCHARM\n",
    "        for n, label in zip(dictable_cols, labels):\n",
    "\n",
    "            # Fill in empty cells with appropriate label\n",
    "            if row[n] == '':\n",
    "                row[n] = label\n",
    "                    \n",
    "            # Remove trailing soft returns (i.e.,\\n) -- it's hard to control these in Google Sheets.\n",
    "            val = row[n]\n",
    "            suffix = '\\n'\n",
    "            if(val.endswith(suffix)):\n",
    "                val = val[:-1]\n",
    "                row[n] = val  # I don't completely trust this, but I don't seem to be losing any data!\n",
    "            \n",
    "            # make every cell into a list (some cells have new-line separated values)\n",
    "            row[n] = row[n].split('\\n')\n",
    "        # Replace individual names with the corresponding org name in Source (aka Referral In) and\n",
    "        # Hand-off or referral (aka Referral Out) fields\n",
    "        # (positional elements [12] and [13])\n",
    "        for n in [12, 13]:\n",
    "            ref_x = row[n]\n",
    "            row[n] = []  # Empty cell to ready it for being re-filled\n",
    "            for term in ref_x:\n",
    "                #for key in config_v2.refs.keys():    ## USE THIS IN PYCHARM\n",
    "                for key in refs.keys():\n",
    "                    #if term in config_v2.refs[key][1]:   ## USE THIS IN PYCHARM\n",
    "                    if term in refs[key][1]: \n",
    "                        #term = config_v2.refs[key][0]    ## USE THIS IN PYCHARM\n",
    "                        term = refs[key][0]\n",
    "                        row[n].append(term)\n",
    "        myrows.append(row)"
   ]
  },
  {
   "cell_type": "code",
   "execution_count": null,
   "metadata": {
    "collapsed": true,
    "scrolled": true
   },
   "outputs": [],
   "source": [
    "# ***** COUNT THE DATA *****\n",
    "# Each row (list) represents a consulting engagement\n",
    "print('\\nIn %s, RDM Consulting provided %d consultations.' % (report_period_descriptor, (len(myrows))))\n",
    "\n",
    "# Count how many engagements are resolved successfully\n",
    "yesrows = []\n",
    "\n",
    "for r in myrows:\n",
    "    r15 = r[15]\n",
    "    if 'Resolved' in r15:\n",
    "        yesrows.append(r)\n",
    "\n",
    "print('We reached a successful resolution in %d of those engagements.' % len(yesrows))\n"
   ]
  },
  {
   "cell_type": "code",
   "execution_count": null,
   "metadata": {
    "collapsed": true
   },
   "outputs": [],
   "source": [
    "# Gather and count (subtotal) the values for consultant(s), department/oru, patron status, (RDM lifecycle) category,\n",
    "# source (referrals in), hand-off or referral (referrals out) and consultation complexity.\n",
    "# TODO: calculate values for library division and organizational partners fields\n",
    "#for i, n in enumerate(config_v2.dictable_cols):   ## USE THIS IN PYCHARM\n",
    "for i, n in enumerate(dictable_cols):\n",
    "    counter = Counter()\n",
    "    for row in myrows:\n",
    "        for z in row[n]:\n",
    "            counter[z] += 1\n",
    "    #print('\\n' + config_v2.headings[i] + ':')   ## USE THIS IN PYCHARM\n",
    "    print('\\n' + headings[i] + ':')\n",
    "    for (k, v) in counter.most_common():\n",
    "        print(k + ', ' + str(v))"
   ]
  },
  {
   "cell_type": "code",
   "execution_count": null,
   "metadata": {
    "collapsed": true
   },
   "outputs": [],
   "source": []
  }
 ],
 "metadata": {
  "kernelspec": {
   "display_name": "Python 3",
   "language": "python",
   "name": "python3"
  },
  "language_info": {
   "codemirror_mode": {
    "name": "ipython",
    "version": 3
   },
   "file_extension": ".py",
   "mimetype": "text/x-python",
   "name": "python",
   "nbconvert_exporter": "python",
   "pygments_lexer": "ipython3",
   "version": "3.6.2"
  }
 },
 "nbformat": 4,
 "nbformat_minor": 2
}
